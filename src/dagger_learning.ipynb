{
 "cells": [
  {
   "cell_type": "code",
   "execution_count": null,
   "id": "initial_id",
   "metadata": {
    "collapsed": true
   },
   "outputs": [],
   "source": []
  },
  {
   "cell_type": "code",
   "execution_count": null,
   "outputs": [],
   "source": [
    "# %%\n",
    "import torch\n",
    "import torch.nn as nn\n",
    "import torch.nn.functional as F\n",
    "import torch.optim as optim\n",
    "import torch_geometric.transforms as T\n",
    "from sklearn.model_selection import train_test_split\n",
    "from tensorboardX import SummaryWriter\n",
    "from torch.utils.data import Subset\n",
    "from torch_geometric.loader import DataLoader\n",
    "\n",
    "from src.dataset import RobotGraph"
   ],
   "metadata": {
    "collapsed": false
   },
   "id": "543d3874e63d6703"
  },
  {
   "cell_type": "code",
   "execution_count": null,
   "outputs": [],
   "source": [
    "device = torch.device(\"cuda\" if torch.cuda.is_available() else \"cpu\")"
   ],
   "metadata": {
    "collapsed": false
   },
   "id": "eb973365c434ad3e"
  },
  {
   "cell_type": "code",
   "execution_count": null,
   "outputs": [],
   "source": [
    "\n",
    "class MLP(nn.Module):\n",
    "    def __init__(self, input_dim, hidden_dim, latent_dim):\n",
    "        super(MLP, self).__init__()\n",
    "        self.mlp = nn.Sequential(\n",
    "            nn.Linear(input_dim, hidden_dim),\n",
    "            nn.BatchNorm1d(hidden_dim),\n",
    "            nn.ReLU(),\n",
    "            nn.Dropout(0.5),\n",
    "            nn.Linear(hidden_dim, hidden_dim),\n",
    "            nn.BatchNorm1d(hidden_dim),\n",
    "            nn.ReLU(),\n",
    "            nn.Dropout(0.5),\n",
    "            nn.Linear(hidden_dim, hidden_dim),\n",
    "            nn.BatchNorm1d(hidden_dim),\n",
    "            nn.ReLU(),\n",
    "            nn.Dropout(0.5),\n",
    "            nn.Linear(hidden_dim, hidden_dim),\n",
    "            nn.BatchNorm1d(hidden_dim),\n",
    "            nn.ReLU(),\n",
    "            nn.Dropout(0.5),\n",
    "            nn.Linear(hidden_dim, latent_dim),\n",
    "        )\n",
    "\n",
    "    def forward(self, data):\n",
    "        x = data.x\n",
    "        x = self.mlp(x)\n",
    "        return x\n",
    "\n"
   ],
   "metadata": {
    "collapsed": false
   },
   "id": "80e4ac57fa84fed7"
  },
  {
   "cell_type": "code",
   "execution_count": null,
   "outputs": [],
   "source": [
    "\n",
    "def train(train_loader, test_loader, writer, model, optimizer, num_epochs=50, l1_lambda=0.01):\n",
    "    print(\"Device:\", device)\n",
    "    scheduler = torch.optim.lr_scheduler.ExponentialLR(optimizer, gamma=0.975)\n",
    "    model.to(device)\n",
    "\n",
    "    model.train()\n",
    "    for epoch in range(num_epochs):\n",
    "        total_loss = 0\n",
    "        for batch in train_loader:\n",
    "            batch = batch.to(device)\n",
    "            optimizer.zero_grad()\n",
    "            pred = model(batch)\n",
    "            loss = F.huber_loss(pred.squeeze(), batch.y)\n",
    "            # L1 regularization\n",
    "            l1_reg = torch.tensor(0., device=device, requires_grad=True)\n",
    "            for name, param in model.named_parameters():\n",
    "                if 'weight' in name:\n",
    "                    l1_reg = l1_reg + torch.norm(param, 1)\n",
    "            loss_no_reg = loss.detach().cpu().numpy()\n",
    "            loss = loss + l1_lambda * l1_reg\n",
    "            loss.backward()\n",
    "            optimizer.step()\n",
    "            total_loss += loss.item() * batch.num_graphs\n",
    "        total_loss /= len(train_loader.dataset)\n",
    "        writer.add_scalar(\"loss\", total_loss, epoch)\n",
    "\n",
    "        if epoch % 1 == 0:\n",
    "            test_loss = test(test_loader, model)\n",
    "            print(\n",
    "                f\"Epoch {epoch}. L1 Loss: {total_loss:.4f}. Huber Loss:{loss_no_reg: .4f}. Test loss: {test_loss:.4f}\")\n",
    "            writer.add_scalar(\"test_loss\", test_loss, epoch)\n",
    "        if epoch % 20 == 0:\n",
    "            scheduler.step()\n",
    "\n",
    "    return model\n"
   ],
   "metadata": {
    "collapsed": false
   },
   "id": "4ad11647bd7611ab"
  },
  {
   "cell_type": "code",
   "execution_count": null,
   "outputs": [],
   "source": [
    "\n",
    "def test(loader, model):\n",
    "    model.eval()\n",
    "    total_loss = 0.0\n",
    "    total_samples = 0\n",
    "\n",
    "    for data in loader:\n",
    "        data = data.to(device)\n",
    "        with torch.no_grad():\n",
    "            pred = model(data)\n",
    "        target = data.y.reshape(pred.shape[0], pred.shape[1])\n",
    "\n",
    "        # loss = F.mse_loss(pred.squeeze(), target).to(device)\n",
    "        loss = F.huber_loss(pred, target).to(device)\n",
    "        total_loss += loss.item() * data.num_graphs\n",
    "        total_samples += data.num_graphs\n",
    "\n",
    "        avg_loss = total_loss / total_samples\n",
    "    return avg_loss"
   ],
   "metadata": {
    "collapsed": false
   },
   "id": "1adafcfc81ddc0f0"
  },
  {
   "cell_type": "code",
   "execution_count": null,
   "outputs": [],
   "source": [
    "\n",
    "def main():\n",
    "    writer = SummaryWriter(\"../runs/test\")\n",
    "    transform = T.NormalizeFeatures()\n",
    "    dataset = RobotGraph(\"dataset\")\n",
    "\n",
    "    train_ratio = 0.8\n",
    "    num_samples = len(dataset)\n",
    "    num_train = int(train_ratio * num_samples)\n",
    "    indices = list(range(num_samples))\n",
    "    train_indices, test_indices = train_test_split(\n",
    "        indices, train_size=num_train, shuffle=True, random_state=42\n",
    "    )\n",
    "\n",
    "    train_dataset = Subset(dataset, train_indices)\n",
    "    # plot_goal_pos(train_dataset)\n",
    "    test_dataset = Subset(dataset, test_indices)\n",
    "\n",
    "    # Normalize node features in the training dataset\n",
    "    # train_dataset = normalize_node_features(train_dataset)\n",
    "    # test_dataset = normalize_node_features(test_dataset)\n",
    "\n",
    "    train_loader = DataLoader(\n",
    "        train_dataset, batch_size=512, shuffle=True, drop_last=True, num_workers=4\n",
    "    )\n",
    "    test_loader = DataLoader(\n",
    "        test_dataset, batch_size=512, shuffle=True, drop_last=True, num_workers=4\n",
    "    )\n",
    "\n",
    "    # model = GCN(128, 1)\n",
    "    model = MLP(8, 128, 1)\n",
    "    optimizer = optim.Adam(model.parameters(), lr=0.0001, weight_decay=5e-4)\n",
    "\n",
    "    trained_model = train(train_loader, test_loader, writer, model, optimizer)\n",
    "    print(\"Training complete.\")\n",
    "    # Save the model\n",
    "    torch.save(trained_model, \"models/model.pt\")\n",
    "\n",
    "\n",
    "if __name__ == \"__main__\":\n",
    "    main()\n"
   ],
   "metadata": {
    "collapsed": false
   },
   "id": "6b6dbc967247c51"
  }
 ],
 "metadata": {
  "kernelspec": {
   "display_name": "Python 3",
   "language": "python",
   "name": "python3"
  },
  "language_info": {
   "codemirror_mode": {
    "name": "ipython",
    "version": 2
   },
   "file_extension": ".py",
   "mimetype": "text/x-python",
   "name": "python",
   "nbconvert_exporter": "python",
   "pygments_lexer": "ipython2",
   "version": "2.7.6"
  }
 },
 "nbformat": 4,
 "nbformat_minor": 5
}
